{
 "cells": [
  {
   "cell_type": "markdown",
   "id": "3b4f3788",
   "metadata": {},
   "source": [
    "<img style=\"float: right; margin: 0px 0px 0px 0px;\" src=\"https://upload.wikimedia.org/wikipedia/commons/2/2d/Logo-ITESO-Vertical-SinFondo-png.png\" width=\"150px\" height=\"150px\" />"
   ]
  },
  {
   "cell_type": "markdown",
   "id": "ae762cc2",
   "metadata": {},
   "source": [
    "# Proyecto 1 Optimización"
   ]
  },
  {
   "cell_type": "markdown",
   "id": "886d78f7",
   "metadata": {},
   "source": [
    "## Optimización del transporte de materiales de una obra en construcción.\n"
   ]
  },
  {
   "cell_type": "markdown",
   "id": "8e1c37d3",
   "metadata": {},
   "source": [
    "21/09/2023"
   ]
  },
  {
   "cell_type": "markdown",
   "id": "814237fb",
   "metadata": {},
   "source": [
    "**Datos de los integrantes:**"
   ]
  },
  {
   "cell_type": "markdown",
   "id": "7102e795",
   "metadata": {},
   "source": [
    "- **Israel Santiago Gomez:**\n",
    "- Expediente: 745401\n",
    "- Correo: israel.santiago@iteso.mx\n",
    "- **Arturo Hesiquio Casarrubias**\n",
    "- Expediente: 745514\n",
    "- Correo: arturo.hesiquio@iteso.mx\n",
    "- **Erik Gabriel Vega Cervantes**\n",
    "- Expediente: 745264\n",
    "- Correo: erik.vega@iteso.mx"
   ]
  },
  {
   "cell_type": "markdown",
   "id": "03640729",
   "metadata": {},
   "source": [
    "\n",
    "\n",
    "\n",
    "\n",
    "\n",
    "\n",
    "\n",
    "\n",
    "\n",
    "\n",
    "\n",
    "\n",
    "\n",
    "\n",
    "\n",
    "\n",
    "\n",
    "\n",
    "\n",
    "\n",
    "\n"
   ]
  },
  {
   "cell_type": "markdown",
   "id": "2ced0423",
   "metadata": {},
   "source": [
    "### Objetivos"
   ]
  },
  {
   "cell_type": "markdown",
   "id": "6d715274",
   "metadata": {},
   "source": [
    "#### Objetivo general:"
   ]
  },
  {
   "cell_type": "markdown",
   "id": "4ab55b83",
   "metadata": {},
   "source": [
    "- Minimizar el costo en de transporte de materiales de una obra en construccion."
   ]
  },
  {
   "cell_type": "markdown",
   "id": "98ef1125",
   "metadata": {},
   "source": [
    "#### Objetivos especificos"
   ]
  },
  {
   "cell_type": "markdown",
   "id": "c0483b9d",
   "metadata": {},
   "source": [
    "1. Identificar los tipos de materiales que se requieren transportar en una obra y sus cantidades estimadas.\n",
    "2. Evaluar las opciones de transporte disponibles y sus capacidades.\n",
    "4. Diseñar un plan eficiente de asignación de transporte de materiales en una obra para poder minimizar el costo"
   ]
  },
  {
   "cell_type": "markdown",
   "id": "6c3621ac",
   "metadata": {},
   "source": [
    "### Modelo que representa el problema:"
   ]
  },
  {
   "cell_type": "markdown",
   "id": "3bf55f65",
   "metadata": {},
   "source": [
    "#### Funcion a optimizar:"
   ]
  },
  {
   "cell_type": "markdown",
   "id": "1d5c1c5a",
   "metadata": {},
   "source": [
    "Para representar el problema de optimización del transporte de materiales para una obra de construcción, podemos definir la siguiente función objetivo:\n",
    "\n",
    "Minimizar el costo total de transporte (Ct), que se compone de los costos asociados al uso de los equipos de transporte y al tiempo de trabajo de los operadores:\n",
    "\n",
    "Ct = Costo total del acarreo de materiales en la obra = Numero de recorridos realizados"
   ]
  },
  {
   "cell_type": "markdown",
   "id": "f36dcb5c",
   "metadata": {},
   "source": [
    "#### Restricciones:"
   ]
  },
  {
   "cell_type": "markdown",
   "id": "877a7e6b",
   "metadata": {},
   "source": [
    "**Demanda de materiales:** La cantidad de materiales transportada debe satisfacer la demanda de cada obra:\n",
    "\n",
    "- Demanda de material en la obra i ≤ Cantidad de material transportada de la obra i\n",
    "\n",
    "- Donde i es el índice de cada obra.\n",
    "\n",
    "**Capacidad de los equipos de transporte:** La cantidad de material transportada por cada equipo no debe exceder su capacidad máxima:\n",
    "\n",
    "- Cantidad de material transportada por equipo j ≤ Capacidad máxima del equipo j\n",
    "\n",
    "- Donde j es el índice de cada equipo de transporte.\n",
    "\n",
    "- Horarios de trabajo: Los horarios de transporte de materiales deben estar dentro de los límites de tiempo establecidos:\n",
    "  Tiempo de la obra i ≤ Límite de tiempo para el acarreo del material"
   ]
  },
  {
   "cell_type": "markdown",
   "id": "068b2e8e",
   "metadata": {},
   "source": [
    "#### Situación que representa el modelo:"
   ]
  },
  {
   "cell_type": "markdown",
   "id": "c7c224c7",
   "metadata": {},
   "source": [
    "El modelo representa la optimización de la asignación de equipos de transporte para el acarreo de materiales en una obra de construcción. El objetivo es minimizar los costos totales de transporte mientras se cumplen las demandas de materiales de cada  obra y se respetan las capacidades de los equipos."
   ]
  },
  {
   "cell_type": "markdown",
   "id": "b8134aa7",
   "metadata": {},
   "source": [
    "#### Limitaciones:"
   ]
  },
  {
   "cell_type": "markdown",
   "id": "0e3a8345",
   "metadata": {},
   "source": [
    "- El modelo asume que las demandas de materiales y las capacidades de los equipos son conocidas y constantes.\n",
    "- No se tienen en cuenta factores externos como condiciones climáticas o problemas mecánicos en los equipos, que pueden afectar la programación y el costo real del transporte.\n",
    "- La eficiencia del modelo depende de la precisión de los datos y de la capacidad para prever las necesidades de materiales en las diferentes áreas de la obra."
   ]
  },
  {
   "cell_type": "markdown",
   "id": "04a353fe",
   "metadata": {},
   "source": [
    "#### Parametros:"
   ]
  },
  {
   "cell_type": "markdown",
   "id": "7d54ed34",
   "metadata": {},
   "source": [
    "- Cantidad de material transportada  de la obra i: Variable de decisión que representa la cantidad de material transportada de la obra.\n",
    "- Capacidad máxima del equipo j: Capacidad máxima de carga de cada equipo de transporte.\n",
    "- Costo de equipos de transporte(renta): Costo asociado al uso de cada equipo de transporte.\n",
    "- Costo de tiempo de operadores: Costo asociado al tiempo de trabajo de los operadores de los equipos.\n",
    "- Límite de tiempo para el área i: Límite de tiempo establecido para el transporte de materiales a cada área de la obra."
   ]
  },
  {
   "cell_type": "markdown",
   "id": "c353b957",
   "metadata": {},
   "source": [
    "### Solución"
   ]
  },
  {
   "attachments": {},
   "cell_type": "markdown",
   "id": "95d24e7e",
   "metadata": {},
   "source": [
    "Para la solución de este problema, plantearemos una situación hipotética para poder ejemplificar de mejor manera el uso de la optimización con programacion lineal."
   ]
  },
  {
   "cell_type": "markdown",
   "id": "765ddcd1",
   "metadata": {},
   "source": [
    "**Planteamiento:** Supongamos que estamos gestionando la programacion de acarreo de arena en una obra, para la cual se saben los siguientes datos"
   ]
  },
  {
   "cell_type": "markdown",
   "id": "1ea54bd3",
   "metadata": {},
   "source": [
    "A continuación solucionaremos este problema con el uso de la programación lineal y de herramientas como numpy y scipy:"
   ]
  },
  {
   "cell_type": "markdown",
   "id": "1812f741",
   "metadata": {},
   "source": [
    "**Demanda de acarreo de material total (en toneladas) :**\n",
    "\n",
    "- Demanda total: 130 toneladas\n",
    "\n",
    "\n",
    "**Capacidad máxima de los equipos de transporte (en toneladas):**\n",
    "\n",
    "- Camión 1: 3 toneladas\n",
    "- Camión 2: 3.5 toneladas\n",
    "- Camion 3: 4 toneladas\n",
    "- Camion 4: 5 toneladas\n",
    "\n",
    "**Tiempo de ruta (Lo que tarda cada camion en hacer un recorrido completo):**\n",
    "\n",
    "- Camión 1: 45 min = 0.75 hr\n",
    "- Camión 2: 60 min = 1 hr\n",
    "- Camion 2: 75 min = 1.25 hr\n",
    "- Camion 4: 84 min = 1.4 hr\n",
    "\n",
    "**Costos operativos por hora :**\n",
    "\n",
    "- Camión 1: 300\n",
    "- Camión 2: 350\n",
    "- Camion 2: 375\n",
    "- Camion 4: 420\n",
    "\n",
    "**Tiempo maximo para la realizacion del trabajo :**\n",
    "\n",
    "- Tiempo maximo: 8-9 horas"
   ]
  },
  {
   "cell_type": "markdown",
   "id": "02afb430",
   "metadata": {},
   "source": [
    "#### Criterio de optimización:\n",
    "\n",
    "Minimizar el costo operativo"
   ]
  },
  {
   "cell_type": "markdown",
   "id": "937c5eb6",
   "metadata": {},
   "source": [
    "#### Variables sobre las que tengo control:\n",
    "$x_{1}$ *= Numero de recorridos realizados por el camion 1*\n",
    "\n",
    "$x_{2}$ *= Numero de recorridos realizados por el camion 2*\n",
    "\n",
    "$x_{3}$ *= Numero de recorridos realizados por el camion 3*\n",
    "\n",
    "$x_{4}$ *= Numero de recorridos realizados por el camion 4*\n",
    "\n",
    "#### Funcion para encontrar el costo minimo:\n",
    "\n",
    "$ C_{min} = (0.75)(300)x_{1} + (1)(350)x_{2} + (1.25)(375)x_{3} + (1.4)(420)x_{4}  $\n",
    "\n",
    "$ C_{min} = 225x_{1} + 350x_{2} + 468.75x_{3} + 588x_{4}  $\n"
   ]
  },
  {
   "cell_type": "markdown",
   "id": "93dc20aa",
   "metadata": {},
   "source": [
    "#### Restricciones"
   ]
  },
  {
   "cell_type": "markdown",
   "id": "d143024a",
   "metadata": {},
   "source": [
    "**Requerimiento total**\n",
    "\n",
    "$ 9x_{1} + 12x_{2} + 14x_{3} + 18x_{4} = 130 $\n",
    "\n",
    "**limite de tiempo**\n",
    "\n",
    "$ 0.75x_{1} + x_{2} + 1.25x_{3} + 1.4x_{4} \\leq 8 $\n"
   ]
  },
  {
   "cell_type": "markdown",
   "id": "9ac76213",
   "metadata": {},
   "source": [
    "### Codigo:"
   ]
  },
  {
   "cell_type": "code",
   "execution_count": 45,
   "id": "df97a6c8",
   "metadata": {},
   "outputs": [],
   "source": [
    "import numpy as np\n",
    "import scipy.optimize as opt\n",
    "\n",
    "c = np.array([225, 350, 468.75, 588])\n",
    "\n",
    "Aeq = np.array([[3, 3.5, 4, 5]])  \n",
    "beq = np.array([27])\n",
    "\n",
    "Aub = np.array([[-0.75, -1, -1.25, -1.4]])  \n",
    "bub = np.array([-8])\n",
    "\n",
    "res = opt.linprog(c, Aub, bub, Aeq, beq)\n",
    "\n"
   ]
  },
  {
   "cell_type": "code",
   "execution_count": 46,
   "id": "2ba065c3",
   "metadata": {},
   "outputs": [
    {
     "name": "stdout",
     "output_type": "stream",
     "text": [
      "Cantidad óptima de viajes por camión:\n",
      "Número de viajes del camión 1: 3\n",
      "Número de viajes del camión 2: 0\n",
      "Número de viajes del camión 3: 5\n",
      "Número de viajes del camión 4: 0\n",
      "\n",
      "Costo mínimo: 2868.75\n"
     ]
    }
   ],
   "source": [
    "print(\"Cantidad óptima de viajes por camión:\")\n",
    "print(\"Número de viajes del camión 1:\", int(np.ceil(res.x[0])))\n",
    "print(\"Número de viajes del camión 2:\", int(np.ceil(res.x[1])))\n",
    "print(\"Número de viajes del camión 3:\", int(np.ceil(res.x[2])))\n",
    "print(\"Número de viajes del camión 4:\", int(np.ceil(res.x[3])))\n",
    "\n",
    "print(\"\")\n",
    "print(\"Costo mínimo:\", res.fun)"
   ]
  },
  {
   "cell_type": "markdown",
   "id": "049666d6",
   "metadata": {},
   "source": [
    "Estos datos obtenidos nos muestran la mejor manera de programar el numero de viajes de cada camión cumpliendo con las restricciones de tiempo, capacidad y demanda."
   ]
  },
  {
   "cell_type": "markdown",
   "id": "808e3c14",
   "metadata": {},
   "source": [
    "#### Comprobación:"
   ]
  },
  {
   "cell_type": "code",
   "execution_count": 47,
   "id": "8c010072",
   "metadata": {},
   "outputs": [
    {
     "name": "stdout",
     "output_type": "stream",
     "text": [
      "3 viajes del camion 1 son capaces de cargar:  9 Toneladas\n",
      "5 viajes del camion 3 son capaces de cargar:  20 Toneladas\n",
      "Total cargado: 29 toneladas, cumple con el requerimiento minimo.\n"
     ]
    }
   ],
   "source": [
    "print(\"3 viajes del camion 1 son capaces de cargar: \", 3*3, \"Toneladas\")\n",
    "print(\"5 viajes del camion 3 son capaces de cargar: \", 5*4, \"Toneladas\")\n",
    "print(\"Total cargado: 29 toneladas, cumple con el requerimiento minimo.\")"
   ]
  },
  {
   "cell_type": "code",
   "execution_count": 48,
   "id": "f19427da",
   "metadata": {},
   "outputs": [
    {
     "name": "stdout",
     "output_type": "stream",
     "text": [
      "Tiempo total: 8.5 hrs\n"
     ]
    }
   ],
   "source": [
    "print((\"Tiempo total:\"),  0.75*3 +  1.25*5, \"hrs\")"
   ]
  },
  {
   "cell_type": "markdown",
   "id": "135cef75",
   "metadata": {},
   "source": [
    "Esto demuestra que la solución obtenida es factible."
   ]
  },
  {
   "cell_type": "markdown",
   "id": "76b83d66",
   "metadata": {},
   "source": [
    "### Conclusiones:"
   ]
  },
  {
   "cell_type": "markdown",
   "id": "3228f1b5",
   "metadata": {},
   "source": [
    "El objetivo general de minimizar el costo en el transporte de materiales de construcción en una obra se ha abordado de manera efectiva a través de la optimización de la asignación de transporte. \n",
    "\n",
    "Mediante la formulación de un problema de optimización lineal y el uso de herramientas como scipy.optimize, se diseñó un plan de asignación de transporte que permitió minimizar el costo total de transporte. La asignación óptima de recorridos a los camiones resultó en una distribución eficiente de los materiales, cumpliendo con los requerimientos de tiempo y capacidad."
   ]
  },
  {
   "cell_type": "code",
   "execution_count": null,
   "id": "da1e2410",
   "metadata": {},
   "outputs": [],
   "source": []
  }
 ],
 "metadata": {
  "kernelspec": {
   "display_name": "Python 3 (ipykernel)",
   "language": "python",
   "name": "python3"
  },
  "language_info": {
   "codemirror_mode": {
    "name": "ipython",
    "version": 3
   },
   "file_extension": ".py",
   "mimetype": "text/x-python",
   "name": "python",
   "nbconvert_exporter": "python",
   "pygments_lexer": "ipython3",
   "version": "3.10.9"
  }
 },
 "nbformat": 4,
 "nbformat_minor": 5
}
