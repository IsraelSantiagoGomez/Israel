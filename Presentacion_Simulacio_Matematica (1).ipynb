{
  "metadata": {
    "language_info": {
      "codemirror_mode": {
        "name": "python",
        "version": 3
      },
      "file_extension": ".py",
      "mimetype": "text/x-python",
      "name": "python",
      "nbconvert_exporter": "python",
      "pygments_lexer": "ipython3",
      "version": "3.8"
    },
    "kernelspec": {
      "name": "python",
      "display_name": "Python (Pyodide)",
      "language": "python"
    }
  },
  "nbformat_minor": 4,
  "nbformat": 4,
  "cells": [
    {
      "cell_type": "markdown",
      "source": "# INGENIERÍA CIVIL",
      "metadata": {}
    },
    {
      "cell_type": "markdown",
      "source": "## Presentación personal",
      "metadata": {}
    },
    {
      "cell_type": "markdown",
      "source": "Soy Israel Santiago Gómez, estudio la carrera de ingeniería civil en el **ITESO**. Actualmente estoy cursando el tercer semestre de la carrera.\n\nLo que me guta de la carrera es:\n1. El campo laboral.\n2. El analisis estrucural.",
      "metadata": {}
    },
    {
      "cell_type": "markdown",
      "source": "### Vigas simplemente apoyadas",
      "metadata": {}
    },
    {
      "cell_type": "markdown",
      "source": "Se define como: *Viga que está soportada por apoyos simples en los extremos y que permiten el libre movimiento de sus extremos.*\n\nEste es un tipo de vigas muy común y está determinado porque hay tres ecuaciones de equilibrio y solo 3 reacciones desconocidas:\n\n- Dos del soporte fijado.\n- Una del soporte libre.\n\n",
      "metadata": {}
    },
    {
      "cell_type": "markdown",
      "source": "![](https://skyciv.com/wp-content/uploads/2017/06/Example-of-simply-supported-beam-type.png)",
      "metadata": {}
    },
    {
      "cell_type": "markdown",
      "source": "Al ser una viga estática la sumatoria de momentos en \"x\" es igual a cero:",
      "metadata": {}
    },
    {
      "cell_type": "markdown",
      "source": "$$ \\sum M_{x} = 0 $$",
      "metadata": {}
    }
  ]
}