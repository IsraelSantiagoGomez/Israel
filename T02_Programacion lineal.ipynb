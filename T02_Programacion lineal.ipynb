{
 "cells": [
  {
   "cell_type": "markdown",
   "metadata": {},
   "source": [
    "# T02- Programación lineal"
   ]
  },
  {
   "cell_type": "markdown",
   "metadata": {},
   "source": [
    "Israel Santiago Gomez\n",
    "\n",
    "07/09/2023\n",
    "\n",
    "Exp: 745401\n",
    "\n",
    "Simulacion matematica"
   ]
  },
  {
   "cell_type": "markdown",
   "metadata": {},
   "source": [
    "### Diseño de la Dieta Óptima\n",
    "\n",
    "Se quiere producir comida para gatos de la manera más barata, no obstante se debe también asegurar que se cumplan los datos requeridos de analisis nutricional. Por lo que se quiere variar la cantidad de cada ingrediente para cumplir con los estandares nutricionales. Los requisitos que se tienen es que en $100$ gramos, se deben tener **por lo menos** $8$ gramos de proteína y $6$ gramos de grasa. Así mismo, no se debe tener más de $2$ gramos de fibra y $0.4$ gramos de sal.  \n",
    "\n",
    "Los datos nutricionales se pueden obtener de la siguiente tabla:\n",
    "\n",
    "Ingrediente|Proteína|Grasa|Fibra|Sal\n",
    ":----|----|----|----|----\n",
    "Pollo|  10.0%|08.0%|00.1%|00.2%\n",
    "Carne|  20.0%|10.0%|00.5%|00.5%\n",
    "Cordero|15.0%|11.0%|00.5%|00.7%\n",
    "Arroz|  00.0%|01.0%|10.0%|00.2%\n",
    "Trigo|  04.0%|01.0%|15.0%|00.8%\n",
    "Gel|    00.0%|00.0%|00.0%|00.0%\n",
    "\n",
    "Los costos de cada producto son:\n",
    "\n",
    "Ingrediente|Costo por gramo\n",
    ":----|----\n",
    "Pollo|$\\$$0.013\n",
    "Carne|$\\$$0.008\n",
    "Cordero|$\\$$0.010\n",
    "Arroz|$\\$$0.002\n",
    "Trigo|$\\$$0.005\n",
    "Gel|$\\$$0.001    \n",
    "\n",
    "Lo que se busca optimizar en este caso es la cantidad de productos que se debe utilizar en la comida de gato, minimizando el costo total. Para simplificar la notación use las siguientes variables: \n",
    "\n",
    "+ $x_1:$ Gramos de pollo  \n",
    "+ $x_2:$ Gramos de carne  \n",
    "+ $x_3:$ Gramos de cordero  \n",
    "+ $x_4:$ Gramos de arroz  \n",
    "+ $x_5:$ Gramos de trigo  \n",
    "+ $x_6:$ Gramos de gel\n",
    "\n",
    "La tarea consiste en plantear el problema de programación lineal que permita satisfacer las necesidades alimenticias del gato al tiempo que minimice el costo total y resolverlo con `linprog`."
   ]
  },
  {
   "cell_type": "markdown",
   "metadata": {},
   "source": [
    "###### 1. Criterio de optimización\n",
    "+ Minimizar el costo\n",
    "###### 2. Variables sobre las que tengo control\n",
    "+ $x_1:$ Gramos de pollo  \n",
    "+ $x_2:$ Gramos de carne  \n",
    "+ $x_3:$ Gramos de cordero  \n",
    "+ $x_4:$ Gramos de arroz  \n",
    "+ $x_5:$ Gramos de trigo  \n",
    "+ $x_6:$ Gramos de gel\n",
    "###### 3. Función para encontrar el costo mínimo\n",
    "+ $0.013 x_1 + 0.008 x_2 + 0.01x_3 + 0.002x_4 + 0.005x_5 + 0.001x_6 $\n",
    "###### 4. Restricciones\n",
    "*Cantidad:*\n",
    "+ $ x_1 + x_2 + x_3 + x_4 + x_5 + x_6 = 100 $\n",
    "\n",
    "Proteína:\n",
    "+ $0.1 x_1 + 0.2 x_2 + 0.15x_3 + 0.04x_5 \\geq 8$\n",
    "\n",
    "Grasa:\n",
    "\n",
    "+ $0.08 x_1 + 0.1 x_2 + 0.11x_3 + 0.01x_4 + 0.01x_5 \\geq 6$\n",
    "\n",
    "Fibra:\n",
    "\n",
    "+ $0.001 x_1 + 0.005 x_2 + 0.005x_3 + 0.1x_4 + 0.15x_5 \\leq 2$\n",
    "\n",
    "Sal:\n",
    "\n",
    "+ $0.002 x_1 + 0.005 x_2 + 0.007 x_3 + 0.002x_4 + 0.008x_5 \\leq 0.4$\n"
   ]
  },
  {
   "cell_type": "markdown",
   "metadata": {},
   "source": [
    "**Nota:** Es necesario invertir el signo de las restricciones de proteína y grasa para que todas queden siendo menor o igual que"
   ]
  },
  {
   "cell_type": "code",
   "execution_count": 18,
   "metadata": {},
   "outputs": [
    {
     "name": "stdout",
     "output_type": "stream",
     "text": [
      "Cantidad óptima de ingredientes (gramos): [Pollo, carne, cordero, arroz, trigo, gel] [ 0. 60.  0.  0.  0. 40.]\n",
      "Costo mínimo: 0.52\n"
     ]
    }
   ],
   "source": [
    "import numpy as np\n",
    "import scipy.optimize as opt\n",
    "\n",
    "c = np.array([0.013,\n",
    "              0.008,\n",
    "              0.01,\n",
    "              0.002,\n",
    "              0.005,\n",
    "              0.001   \n",
    "            ])\n",
    "\n",
    "Aub = np.array([\n",
    "    [-0.1,-0.2, -0.15, 0, -0.04, 0],\n",
    "    [-0.08, -0.1, -0.11, -0.01, -0.01, 0],\n",
    "    [0.001, 0.005, 0.005, 0.1, 0.15, 0],\n",
    "    [0.002, 0.005, 0.007, 0.002, 0.008, 0]\n",
    "])\n",
    "\n",
    "bub = np.array([-8,\n",
    "                -6,\n",
    "                2,\n",
    "                0.4])\n",
    "\n",
    "Aeq = np.array([\n",
    "    [1, 1, 1, 1, 1, 1]\n",
    "])\n",
    "\n",
    "beq = np.array([100])\n",
    "\n",
    "res = opt.linprog(c, Aub, bub, Aeq, beq)\n",
    "\n",
    "print(\"Cantidad óptima de ingredientes (gramos): [Pollo, carne, cordero, arroz, trigo, gel]\", res.x)\n",
    "print(\"Costo mínimo:\", res.fun)\n"
   ]
  },
  {
   "cell_type": "code",
   "execution_count": null,
   "metadata": {},
   "outputs": [],
   "source": []
  },
  {
   "cell_type": "markdown",
   "metadata": {},
   "source": [
    "###### Resultados\n",
    "Para minimizar los costos y cumplir con los requerimientos nutricionales es necesario que sean 60 gr de carne y 40 de gel"
   ]
  },
  {
   "cell_type": "markdown",
   "metadata": {},
   "source": [
    "### Problema de distribución de energía eléctrica\n",
    "\n",
    "La Comisión Federal de Electricidad **(CFE)** dispone de cuatro plantas de generación para satisfacer la demanda diaria eléctrica en cuatro ciudades, Guadalajara, León y Morelia. Las plantas $1$, $2$ y $3$ pueden satisfacer $80$, $40$ y $60$ millones de KW al día respectivamente. Las necesidades de las ciudades de Guadalajara, León y Morelia son de $70$, $40$ y $70$ millones de Kw al día respectivamente. \n",
    "\n",
    "\n",
    "Los costos asociados al envío de suministro energético por cada millón de Kw entre cada planta y cada ciudad son los registrados en la siguiente tabla. \n",
    "\n",
    "-|Guadalajara|León|Morelia\n",
    ":----|----|----|----\n",
    "Planta 1|5|2|7\n",
    "Planta 2|3|6|6\n",
    "Planta 3|6|1|2\n",
    "\n",
    "Y por último, las restricciones del problema, van a estar dadas por las capacidades de oferta y demanda de cada planta (en millones de KW) y cada ciudad.\n",
    "\n",
    "Para simplificar la notación use las siguientes variables:\n",
    "\n",
    "+ $x_1$: Kw (en millones) distribuidos de la Planta 1 a Guadalajara\n",
    "+ $x_2$: Kw (en millones) distribuidos de la Planta 1 a León\n",
    "+ $x_3$: Kw (en millones) distribuidos de la Planta 1 a Morelia\n",
    "+ $x_4$: Kw (en millones) distribuidos de la Planta 2 a Guadalajara\n",
    "+ $x_5$: Kw (en millones) distribuidos de la Planta 2 a León\n",
    "+ $x_6$: Kw (en millones) distribuidos de la Planta 2 a Morelia\n",
    "+ $x_7$: Kw (en millones) distribuidos de la Planta 3 a Guadalajara\n",
    "+ $x_8$: Kw (en millones) distribuidos de la Planta 3 a León\n",
    "+ $x_9$: Kw (en millones) distribuidos de la Planta 3 a Morelia\n",
    "\n",
    "La tarea consiste en plantear el problema de programación lineal que permita satisfacer las necesidades de todas las ciudades al tiempo que minimice los costos asociados a la distribución y resolverlo con `linprog`."
   ]
  },
  {
   "cell_type": "markdown",
   "metadata": {},
   "source": [
    "###### 1. Criterio de optimización\n",
    "+ Minimizar el costo de envio\n",
    "\n",
    "###### 2. Variable sobre las que tengo control\n",
    "+ $x_1$: Kw (en millones) distribuidos de la Planta 1 a Guadalajara\n",
    "+ $x_2$: Kw (en millones) distribuidos de la Planta 1 a León\n",
    "+ $x_3$: Kw (en millones) distribuidos de la Planta 1 a Morelia\n",
    "+ $x_4$: Kw (en millones) distribuidos de la Planta 2 a Guadalajara\n",
    "+ $x_5$: Kw (en millones) distribuidos de la Planta 2 a León\n",
    "+ $x_6$: Kw (en millones) distribuidos de la Planta 2 a Morelia\n",
    "+ $x_7$: Kw (en millones) distribuidos de la Planta 3 a Guadalajara\n",
    "+ $x_8$: Kw (en millones) distribuidos de la Planta 3 a León\n",
    "+ $x_9$: Kw (en millones) distribuidos de la Planta 3 a Morelia\n",
    "\n",
    "###### 3. Función a optimizar\n",
    "+ $Z = 5x_1 + 2x_2 + 7x_3 + 3x_4 + 6x_5 + 6x_6 + 6x_7 + x_8 + 2x_9$\n",
    "\n",
    "###### 4. Restricciones\n",
    "+ $x_1 + x_2 + x_3 \\leq 80$\n",
    "\n",
    "+ $x_4 + x_5 + x_6 \\leq 40$\n",
    "\n",
    "+ $x_7 + x_8+ x_9 \\leq 60$\n",
    "\n",
    "+ $x_1 + x_4 + x_7 = 70$\n",
    "\n",
    "+ $x_2 + x_5 + x_8 = 40$\n",
    "\n",
    "+ $x_3 + x_6 + x_9 = 70$"
   ]
  },
  {
   "cell_type": "code",
   "execution_count": 16,
   "metadata": {
    "scrolled": true
   },
   "outputs": [
    {
     "name": "stdout",
     "output_type": "stream",
     "text": [
      "Cantidad óptima distribuida (millones de Kw):\n",
      "Planta 1 a Guadalajara: 30.0\n",
      "Planta 1 a León: 40.0\n",
      "Planta 1 a Morelia: 10.0\n",
      "Planta 2 a Guadalajara: 40.0\n",
      "Planta 2 a León: 0.0\n",
      "Planta 2 a Morelia: 0.0\n",
      "Planta 3 a Guadalajara: 0.0\n",
      "Planta 3 a León: 0.0\n",
      "Planta 3 a Morelia: 60.0\n",
      "\n",
      "Costo mínimo: 540.0\n"
     ]
    }
   ],
   "source": [
    "c = np.array([5,\n",
    "             2,\n",
    "             7,\n",
    "             3,\n",
    "             6,\n",
    "             6,\n",
    "             6,\n",
    "             1,\n",
    "             2])\n",
    "\n",
    "Aub = np.array([\n",
    "    [1,1,1,0,0,0,0,0,0],\n",
    "    [0,0,0,1,1,1,0,0,0],\n",
    "    [0,0,0,0,0,0,1,1,1]\n",
    "])\n",
    "\n",
    "bub = np.array([80,40,60])\n",
    "\n",
    "Aeq=np.array([\n",
    "    [1,0,0,1,0,0,1,0,0],\n",
    "    [0,1,0,0,1,0,0,1,0],\n",
    "    [0,0,1,0,0,1,0,0,1]\n",
    "])\n",
    "\n",
    "beq = np.array([70,40,70])\n",
    "\n",
    "res = opt.linprog(c,Aub,bub,Aeq,beq)\n",
    "\n",
    "print(\"Cantidad óptima distribuida (millones de Kw):\")\n",
    "print(\"Planta 1 a Guadalajara:\", res.x[0])\n",
    "print(\"Planta 1 a León:\", res.x[1])\n",
    "print(\"Planta 1 a Morelia:\", res.x[2])\n",
    "print(\"Planta 2 a Guadalajara:\", res.x[3])\n",
    "print(\"Planta 2 a León:\", res.x[4])\n",
    "print(\"Planta 2 a Morelia:\", res.x[5])\n",
    "print(\"Planta 3 a Guadalajara:\", res.x[6])\n",
    "print(\"Planta 3 a León:\", res.x[7])\n",
    "print(\"Planta 3 a Morelia:\", res.x[8])\n",
    "print(\"\")\n",
    "print(\"Costo mínimo:\", res.fun)"
   ]
  },
  {
   "cell_type": "markdown",
   "metadata": {},
   "source": []
  }
 ],
 "metadata": {
  "kernelspec": {
   "display_name": "Python 3 (ipykernel)",
   "language": "python",
   "name": "python3"
  },
  "language_info": {
   "codemirror_mode": {
    "name": "ipython",
    "version": 3
   },
   "file_extension": ".py",
   "mimetype": "text/x-python",
   "name": "python",
   "nbconvert_exporter": "python",
   "pygments_lexer": "ipython3",
   "version": "3.11.4"
  }
 },
 "nbformat": 4,
 "nbformat_minor": 2
}
